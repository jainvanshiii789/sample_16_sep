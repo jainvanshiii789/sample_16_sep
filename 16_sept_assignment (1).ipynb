{
 "cells": [
  {
   "cell_type": "markdown",
   "id": "4ed1265c-8094-4844-8453-fd72b46b6d4e",
   "metadata": {},
   "source": [
    "# 16_sept_assignment:"
   ]
  },
  {
   "cell_type": "markdown",
   "id": "c6d70f6e-10f9-49e5-8fd7-f04166150100",
   "metadata": {},
   "source": [
    "## FOR LOOP:"
   ]
  },
  {
   "cell_type": "markdown",
   "id": "132a4d69-aaa8-4354-913b-3f8932bfa8e5",
   "metadata": {},
   "source": [
    "### 1. Write a Python program to print numbers from 1 to 10 using a for loop."
   ]
  },
  {
   "cell_type": "code",
   "execution_count": 1,
   "id": "caef0e6f-ed94-4add-ae79-f765f7581ebf",
   "metadata": {},
   "outputs": [
    {
     "name": "stdout",
     "output_type": "stream",
     "text": [
      "1\n",
      "2\n",
      "3\n",
      "4\n",
      "5\n",
      "6\n",
      "7\n",
      "8\n",
      "9\n",
      "10\n"
     ]
    }
   ],
   "source": [
    "# define a range for 1 to 10 and iterate through it using for loop:\n",
    "for i in range(1,11):\n",
    "    print(i)"
   ]
  },
  {
   "cell_type": "markdown",
   "id": "1846d572-9676-40e7-8daf-ec7e1501f329",
   "metadata": {},
   "source": [
    "### 2. Explain the difference between a for loop and a while loop in Python."
   ]
  },
  {
   "cell_type": "code",
   "execution_count": 11,
   "id": "149cc095-0cc0-4e4d-a10d-d9aa97f28620",
   "metadata": {},
   "outputs": [
    {
     "data": {
      "text/plain": [
       "' 1. for loops are used when you know the number of iterations in advance,and while loops are used when you need to repeat a task until a\\nspecific condition is met or when the number of iterations is determined dynamically.\\n2. for loops have more predictable control flow since you know the number of iterations in advance.They are less prone to cause infinite \\nloops ,as long as the iterable is finite.\\n3. while loop requires careful handling of conditions to avoid infinite loops.If the condition never becomes false,the loop will run\\nindefinitely which can lead to program crashes.'"
      ]
     },
     "execution_count": 11,
     "metadata": {},
     "output_type": "execute_result"
    }
   ],
   "source": [
    "''' 1. for loops are used when you know the number of iterations in advance,and while loops are used when you need to repeat a task until a\n",
    "specific condition is met or when the number of iterations is determined dynamically.\n",
    "2. for loops have more predictable control flow since you know the number of iterations in advance.They are less prone to cause infinite \n",
    "loops ,as long as the iterable is finite.\n",
    "3. while loop requires careful handling of conditions to avoid infinite loops.If the condition never becomes false,the loop will run\n",
    "indefinitely which can lead to program crashes.'''"
   ]
  },
  {
   "cell_type": "markdown",
   "id": "ac40c14c-48ae-4c2f-9eac-0c38729faefc",
   "metadata": {},
   "source": [
    "### 3. Write a Python program to calculate the sum of all numbers from 1 to 100 using a for loop."
   ]
  },
  {
   "cell_type": "code",
   "execution_count": 17,
   "id": "86f1ca7a-c541-465a-82e1-5e3647afef8f",
   "metadata": {},
   "outputs": [
    {
     "name": "stdout",
     "output_type": "stream",
     "text": [
      "5050\n"
     ]
    }
   ],
   "source": [
    "# intitialize a variable to store sum:\n",
    "sum = 0\n",
    "# use for loop to iterate over the range:\n",
    "for i in range(1,101):\n",
    "    # find the sum:\n",
    "    sum =sum+ i\n",
    "print(sum)\n"
   ]
  },
  {
   "cell_type": "markdown",
   "id": "f21d04dc-ca1b-482b-9464-61edebd1bcaf",
   "metadata": {},
   "source": [
    "### 4. How do you iterate through a list using a for loop in Python?\n"
   ]
  },
  {
   "cell_type": "code",
   "execution_count": 3,
   "id": "4269944f-0503-4894-8a42-dc0c1a621950",
   "metadata": {},
   "outputs": [
    {
     "name": "stdout",
     "output_type": "stream",
     "text": [
      "1\n",
      "2\n",
      "3\n",
      "5\n",
      "vanshu\n"
     ]
    }
   ],
   "source": [
    "lst = [1,2,3,5,\"vanshu\"] # here lst is the varibale that stores the list.\n",
    "# now the for loop will iterate through the lst in which i access all the values in the lst.\n",
    "for i in lst:\n",
    "    print(i)"
   ]
  },
  {
   "cell_type": "markdown",
   "id": "5b5a8ade-0fbe-47e3-a6d5-109863dbcae0",
   "metadata": {},
   "source": [
    "### 5. Write a Python program to find the product of all elements in a list using a for loop.\n"
   ]
  },
  {
   "cell_type": "code",
   "execution_count": 4,
   "id": "71193d27-3d44-4059-bb2f-4022077b85a0",
   "metadata": {},
   "outputs": [
    {
     "name": "stdout",
     "output_type": "stream",
     "text": [
      "120\n"
     ]
    }
   ],
   "source": [
    "# create a list:\n",
    "a = [1,2,3,4,5]\n",
    "# initialize a variable to store the product.\n",
    "b = 1\n",
    "# use for loop to iterate over the list:\n",
    "for i in a:\n",
    "    # find the product:\n",
    "    b = b*i\n",
    "print(b)\n"
   ]
  },
  {
   "cell_type": "markdown",
   "id": "a888dcd7-b3cc-4a12-a42e-b3b6cbe9745e",
   "metadata": {},
   "source": [
    "### 6. Create a Python program that prints all even numbers from 1 to 20 using a for loop.\n"
   ]
  },
  {
   "cell_type": "code",
   "execution_count": 10,
   "id": "85728cb3-7e97-457b-8ad8-5777c0ee7722",
   "metadata": {},
   "outputs": [
    {
     "name": "stdout",
     "output_type": "stream",
     "text": [
      "2\n",
      "4\n",
      "6\n",
      "8\n",
      "10\n",
      "12\n",
      "14\n",
      "16\n",
      "18\n",
      "20\n"
     ]
    }
   ],
   "source": [
    "# use for loop to iterate through the numbers from 1 to 20:\n",
    "for i in range(1,21):\n",
    "    # find the even numbers.\n",
    "    if i%2==0:\n",
    "        \n",
    "        ## print the even numbers.\n",
    "        print(i)"
   ]
  },
  {
   "cell_type": "markdown",
   "id": "f6a301a8-a06e-4b4f-883c-e3f59cc3ba29",
   "metadata": {},
   "source": [
    "### 7. Write a Python program that calculates the factorial of a number using a for loop.\n"
   ]
  },
  {
   "cell_type": "code",
   "execution_count": 21,
   "id": "7222f994-545e-455b-96d8-230296db00d2",
   "metadata": {},
   "outputs": [
    {
     "data": {
      "text/plain": [
       "120"
      ]
     },
     "execution_count": 21,
     "metadata": {},
     "output_type": "execute_result"
    }
   ],
   "source": [
    "# define a function to find out the factorial:\n",
    "def fact_num(n):\n",
    "    # initialize a variable:\n",
    "    a = 1\n",
    "    # use for loop to iterate through the whole values.\n",
    "    for i in range(1,n+1):\n",
    "        a = a*i\n",
    "    # return the factorial.\n",
    "    return a\n",
    "\n",
    "# call the function:\n",
    "fact_num(5)"
   ]
  },
  {
   "cell_type": "code",
   "execution_count": 28,
   "id": "501af11e-0313-4c03-924f-8f403f463dcf",
   "metadata": {},
   "outputs": [
    {
     "name": "stdin",
     "output_type": "stream",
     "text": [
      "enter the value here: 5\n"
     ]
    },
    {
     "name": "stdout",
     "output_type": "stream",
     "text": [
      "factorial is: 120\n"
     ]
    }
   ],
   "source": [
    "n = int(input(\"enter the value here:\"))\n",
    "a = 1\n",
    "if n<=0:\n",
    "    if n == 0:\n",
    "        print(\"factorial is 1\")\n",
    "    else:\n",
    "        print(\"factorial dont allow negative numbers.\")\n",
    "        \n",
    "else:\n",
    "    for i in range(1,n+1):\n",
    "        a = a*i\n",
    "    print(\"factorial is:\",a)"
   ]
  },
  {
   "cell_type": "code",
   "execution_count": null,
   "id": "e1225aac-6ede-43a7-9ae1-c50461cc7893",
   "metadata": {},
   "outputs": [],
   "source": []
  },
  {
   "cell_type": "markdown",
   "id": "e1541125-7918-4a73-aa33-3993241f42cd",
   "metadata": {},
   "source": [
    "### 8. How can you iterate through the characters of a string using a for loop in Python?"
   ]
  },
  {
   "cell_type": "code",
   "execution_count": 22,
   "id": "ff69676d-312d-405f-bb24-310593d1076e",
   "metadata": {},
   "outputs": [
    {
     "name": "stdout",
     "output_type": "stream",
     "text": [
      "i\n",
      " \n",
      "a\n",
      "m\n",
      " \n",
      "o\n",
      "k\n",
      "a\n",
      "y\n"
     ]
    }
   ],
   "source": [
    "# take a string:\n",
    "s = \"i am okay\"\n",
    "# using for loop to iterate through the string:\n",
    "for i in s:\n",
    "    print(i)"
   ]
  },
  {
   "cell_type": "markdown",
   "id": "4043d596-7b3b-4bac-be49-0d255973f1cd",
   "metadata": {},
   "source": [
    "### 9. Write a Python program to find the largest number in a list using a for loop."
   ]
  },
  {
   "cell_type": "code",
   "execution_count": 23,
   "id": "78e7b992-201b-48c2-acb5-50e7502a433c",
   "metadata": {},
   "outputs": [
    {
     "name": "stdout",
     "output_type": "stream",
     "text": [
      "98\n"
     ]
    }
   ],
   "source": [
    "# take a list:\n",
    "lst = [5,6,89,45,63,98]\n",
    "\n",
    "# use for loop to iterate through the list:\n",
    "for i in lst:\n",
    "    # find the largest number using max.\n",
    "    if i == max(lst):\n",
    "        print(i)\n",
    "    "
   ]
  },
  {
   "cell_type": "code",
   "execution_count": 6,
   "id": "2c2779ab-ded2-4104-85cf-abe7c7ef63db",
   "metadata": {},
   "outputs": [
    {
     "name": "stdout",
     "output_type": "stream",
     "text": [
      "6\n"
     ]
    }
   ],
   "source": [
    "lst = [2,5,6,3]\n",
    "a =lst[0]\n",
    "for i in lst:\n",
    "    if i>a:\n",
    "        a=i\n",
    "print(a)"
   ]
  },
  {
   "cell_type": "markdown",
   "id": "567ed389-65cc-4983-9fa4-db7011e5ed20",
   "metadata": {},
   "source": [
    "### 10. Create a Python program that prints the Fibonacci sequence up to a specified limit using a for loop."
   ]
  },
  {
   "cell_type": "code",
   "execution_count": 10,
   "id": "a38e2a92-bfc3-4394-9ca3-92537ecfa711",
   "metadata": {},
   "outputs": [
    {
     "name": "stdin",
     "output_type": "stream",
     "text": [
      "enter the limit for fibonacci sequence: 5\n"
     ]
    },
    {
     "name": "stdout",
     "output_type": "stream",
     "text": [
      "[0, 1, 1, 2, 3]\n"
     ]
    }
   ],
   "source": [
    "limit = int(input(\"enter the limit for fibonacci sequence:\"))\n",
    "c = [0,1]\n",
    "for i in range(2,limit):\n",
    "    d = c[i-1] + c[i-2]\n",
    "    if d<=limit:\n",
    "        c.append(d)\n",
    "    else:\n",
    "        break\n",
    "print(c)       "
   ]
  },
  {
   "cell_type": "code",
   "execution_count": 6,
   "id": "92d1f1af-320a-4426-a8f8-1f4854977c82",
   "metadata": {},
   "outputs": [
    {
     "name": "stdin",
     "output_type": "stream",
     "text": [
      "enter the limit for fibonacci sequence: 4\n"
     ]
    },
    {
     "name": "stdout",
     "output_type": "stream",
     "text": [
      "[0, 1, 1]\n"
     ]
    }
   ],
   "source": [
    "limit = int(input(\"enter the limit for fibonacci sequence:\"))\n",
    "c = [0,1]\n",
    "while True:\n",
    "    d = c[-1] + c[-2]\n",
    "    if d<=limit:\n",
    "        c.append(d)\n",
    "    break\n",
    "print(c)"
   ]
  },
  {
   "cell_type": "markdown",
   "id": "cae275c6-2826-4e07-a27e-b303807c1b38",
   "metadata": {},
   "source": [
    "### 11. Write a Python program to count the number of vowels in a given string using a for loop."
   ]
  },
  {
   "cell_type": "code",
   "execution_count": 1,
   "id": "fc961a08-8262-46e1-8c2b-5555df9826d3",
   "metadata": {},
   "outputs": [
    {
     "name": "stdout",
     "output_type": "stream",
     "text": [
      "the number of vowels in s is: 7\n"
     ]
    }
   ],
   "source": [
    "# take a string.\n",
    "s = \"This is today's assignment.\"\n",
    "s = s.casefold()\n",
    "# intialize a variable :\n",
    "count = 0\n",
    "\n",
    "# to count the vowels in the string use for loop to iterate through the string:\n",
    "for i in s:\n",
    "    if i in 'aeiou':\n",
    "        count += 1\n",
    "print(\"the number of vowels in s is:\",count)\n",
    "        \n",
    "    "
   ]
  },
  {
   "cell_type": "markdown",
   "id": "cef89966-e176-40da-8788-e5264c986f6e",
   "metadata": {},
   "source": [
    "### 12. Create a Python program that generates a multiplication table for a given number using a for loop."
   ]
  },
  {
   "cell_type": "code",
   "execution_count": 34,
   "id": "154b349d-65df-4cba-b9fa-7aced4c98740",
   "metadata": {},
   "outputs": [
    {
     "name": "stdout",
     "output_type": "stream",
     "text": [
      "5 x 1 = 5\n",
      "5 x 2 = 10\n",
      "5 x 3 = 15\n",
      "5 x 4 = 20\n",
      "5 x 5 = 25\n",
      "5 x 6 = 30\n",
      "5 x 7 = 35\n",
      "5 x 8 = 40\n",
      "5 x 9 = 45\n",
      "5 x 10 = 50\n"
     ]
    }
   ],
   "source": [
    "# take a number whose multiplication table is to find:\n",
    "n = 5\n",
    "# use for loop:\n",
    "for i in range(1,11):\n",
    "    # generate the multiplication table:\n",
    "    mult = i*n\n",
    "    print(f\"{n} x {i} =\",mult)"
   ]
  },
  {
   "cell_type": "markdown",
   "id": "7400284c-3b94-4869-b231-10c71de20976",
   "metadata": {},
   "source": [
    "### 13. Write a Python program to reverse a list using a for loop."
   ]
  },
  {
   "cell_type": "code",
   "execution_count": 37,
   "id": "6369de02-54b2-490c-b01b-90c7505c45bc",
   "metadata": {},
   "outputs": [
    {
     "name": "stdout",
     "output_type": "stream",
     "text": [
      "[True, 6, 5, 4, 'vanshu']\n"
     ]
    }
   ],
   "source": [
    "# initialize a list:\n",
    "lst = [\"vanshu\",4,5,6,True]\n",
    "\n",
    "# use for loop to reverse the lst:\n",
    "for i in lst:\n",
    "    reverse = lst[::-1]\n",
    "print(reverse)"
   ]
  },
  {
   "cell_type": "markdown",
   "id": "915c1009-2e82-410d-a113-be30d239ce0f",
   "metadata": {},
   "source": [
    "### 14. Write a Python program to find the common elements between two lists using a for loop."
   ]
  },
  {
   "cell_type": "code",
   "execution_count": 39,
   "id": "fe283828-7a33-4ec6-ace2-af0f1e942f9d",
   "metadata": {},
   "outputs": [
    {
     "name": "stdout",
     "output_type": "stream",
     "text": [
      "5\n"
     ]
    }
   ],
   "source": [
    "# initialize two lists:\n",
    "l1 = [1,2,34,5,63]\n",
    "l2 = [5,6,7,8,9]\n",
    "#use for loop to find the common elements:\n",
    "for i in l1:\n",
    "    if i in l2:\n",
    "        # print the common elements:\n",
    "        print(i)"
   ]
  },
  {
   "cell_type": "markdown",
   "id": "05d2cab9-682a-4df4-bfc1-3f2f47c71394",
   "metadata": {},
   "source": [
    "### 15. Explain how to use a for loop to iterate through the keys and values of a dictionary in Python."
   ]
  },
  {
   "cell_type": "code",
   "execution_count": 7,
   "id": "9b107cea-e749-4535-a8f6-2565315b1c96",
   "metadata": {},
   "outputs": [
    {
     "name": "stdout",
     "output_type": "stream",
     "text": [
      "name vanshika\n",
      "surname jain\n",
      "class python\n"
     ]
    }
   ],
   "source": [
    "# first take a dictionary:\n",
    "d = {'name':'vanshika','surname':'jain','class':'python'}\n",
    "\n",
    "# use for loop to iterate through the keys and values of the dictionary.\n",
    "for key,values in d.items():\n",
    "    # print the keys and values.\n",
    "    print(key,values)"
   ]
  },
  {
   "cell_type": "code",
   "execution_count": 8,
   "id": "6113b2d0-5703-4e11-ab8e-d68c3ecc43b2",
   "metadata": {},
   "outputs": [
    {
     "name": "stdout",
     "output_type": "stream",
     "text": [
      "name vanshika\n",
      "surname jain\n",
      "class python\n"
     ]
    }
   ],
   "source": [
    "for key in d:\n",
    "    print(key,d[key])"
   ]
  },
  {
   "cell_type": "markdown",
   "id": "fbf981c5-f273-4319-8013-4eaf6fac8dfb",
   "metadata": {},
   "source": [
    "### 16. Write a Python program to find the GCD (Greatest Common Divisor) of two numbers using a for loop."
   ]
  },
  {
   "cell_type": "code",
   "execution_count": 1,
   "id": "e83b9b5a-c588-4855-96d8-67f5ea694d25",
   "metadata": {},
   "outputs": [
    {
     "name": "stdin",
     "output_type": "stream",
     "text": [
      "enter your first number here:  2\n",
      "enter your second number here:  4\n"
     ]
    },
    {
     "name": "stdout",
     "output_type": "stream",
     "text": [
      "2\n"
     ]
    }
   ],
   "source": [
    "## take input from the user:\n",
    "a = int(input(\"enter your first number here: \"))\n",
    "b = int(input(\"enter your second number here: \"))\n",
    "\n",
    "## find the minimum of two numbers:\n",
    "min_num = min(a,b)\n",
    "\n",
    "## initialize greatest common divisor as 1:\n",
    "gcd = 1\n",
    "\n",
    "## use for loop to find gcd:\n",
    "for i in range(1,min_num+1):\n",
    "    if a%i==0 and b%i==0:\n",
    "        gcd = i\n",
    "print(gcd)"
   ]
  },
  {
   "cell_type": "markdown",
   "id": "2443d4f5-3248-4277-9714-7a043140966a",
   "metadata": {},
   "source": [
    "### 17. Create a Python program that checks if a string is a palindrome using a for loop."
   ]
  },
  {
   "cell_type": "code",
   "execution_count": null,
   "id": "5c8b4a59-6efb-408e-aeac-cc8be5e81dd7",
   "metadata": {},
   "outputs": [],
   "source": []
  },
  {
   "cell_type": "code",
   "execution_count": null,
   "id": "d57fa5fb-0586-418a-8a07-4ee3cb24249d",
   "metadata": {},
   "outputs": [],
   "source": [
    "###"
   ]
  },
  {
   "cell_type": "code",
   "execution_count": null,
   "id": "76f74392-44fe-4fb4-a4d1-15144c3b10dc",
   "metadata": {},
   "outputs": [],
   "source": []
  },
  {
   "cell_type": "markdown",
   "id": "15a2b518-059d-4e87-8dc9-d66420639716",
   "metadata": {},
   "source": [
    "### 20. Write a Python program to find the sum of all odd numbers from 1 to 50 using a for loop."
   ]
  },
  {
   "cell_type": "code",
   "execution_count": 10,
   "id": "b5681127-2cff-4b04-bd4b-d27256238315",
   "metadata": {},
   "outputs": [
    {
     "name": "stdout",
     "output_type": "stream",
     "text": [
      "625\n"
     ]
    }
   ],
   "source": [
    "#initialize a variable to store sum:\n",
    "sum = 0\n",
    "## use for loop to iterate over the range:\n",
    "for i in range(1,51):\n",
    "    if i%2!=0:\n",
    "        sum = sum + i\n",
    "print(sum)"
   ]
  },
  {
   "cell_type": "code",
   "execution_count": null,
   "id": "26c49a13-bbea-4b0f-a60f-84c449cd1bf7",
   "metadata": {},
   "outputs": [],
   "source": []
  },
  {
   "cell_type": "markdown",
   "id": "f9cc55cc-e436-406e-b0d1-aed1e1fcb28c",
   "metadata": {},
   "source": [
    "### 22. Create a Python program that calculates the square root of a number using a for loop.\n"
   ]
  },
  {
   "cell_type": "code",
   "execution_count": 2,
   "id": "2af31234-bb7f-4228-8e10-2af8db6c532b",
   "metadata": {},
   "outputs": [
    {
     "ename": "SyntaxError",
     "evalue": "invalid syntax (1073179274.py, line 1)",
     "output_type": "error",
     "traceback": [
      "\u001b[0;36m  Cell \u001b[0;32mIn[2], line 1\u001b[0;36m\u001b[0m\n\u001b[0;31m    for i= int(input()):\u001b[0m\n\u001b[0m         ^\u001b[0m\n\u001b[0;31mSyntaxError\u001b[0m\u001b[0;31m:\u001b[0m invalid syntax\n"
     ]
    }
   ],
   "source": []
  },
  {
   "cell_type": "markdown",
   "id": "5dac5c1a-42d0-4128-8c54-312a3e9bc4df",
   "metadata": {},
   "source": [
    "## IF-ELSE:"
   ]
  },
  {
   "cell_type": "markdown",
   "id": "bef9c2d9-911b-4c76-a261-f4c55676f6f2",
   "metadata": {},
   "source": [
    "### 1. Write a Python program to check if a number is positive, negative, or zero using an if-else statement."
   ]
  },
  {
   "cell_type": "code",
   "execution_count": 12,
   "id": "76f4f39a-a44b-4d34-97de-5243b2767789",
   "metadata": {},
   "outputs": [
    {
     "name": "stdin",
     "output_type": "stream",
     "text": [
      "enter your number here:  -5\n"
     ]
    },
    {
     "name": "stdout",
     "output_type": "stream",
     "text": [
      "-5 is negative.\n"
     ]
    }
   ],
   "source": [
    "# take number from user as input:\n",
    "num = int(input(\"enter your number here: \"))\n",
    "# use if else to check if number is positive negative or zero:\n",
    "if num>0:\n",
    "    print(num, \"is a positive number.\")\n",
    "elif num == 0:\n",
    "    print(num,\"is zero.\")\n",
    "else:\n",
    "    print(num,\"is negative.\")\n"
   ]
  },
  {
   "cell_type": "markdown",
   "id": "5188dbcf-9b62-4eb6-b470-3e1277eb1c1f",
   "metadata": {},
   "source": [
    "### 2. Create a Python program that checks if a given number is even or odd using an if-else statement."
   ]
  },
  {
   "cell_type": "code",
   "execution_count": 14,
   "id": "2a6bf86f-7480-4763-a2c5-8da40322d281",
   "metadata": {},
   "outputs": [
    {
     "name": "stdin",
     "output_type": "stream",
     "text": [
      "enter your number here:  5\n"
     ]
    },
    {
     "name": "stdout",
     "output_type": "stream",
     "text": [
      "5 is odd.\n"
     ]
    }
   ],
   "source": [
    "# # take number from user as input:\n",
    "num = int(input(\"enter your number here: \"))\n",
    "\n",
    "# use if-else :\n",
    "if num%2==0:\n",
    "    print(num,\"is even.\")\n",
    "else:\n",
    "    print(num,\"is odd.\")"
   ]
  },
  {
   "cell_type": "markdown",
   "id": "219276ef-aa28-42c5-ab59-a7708a8e936f",
   "metadata": {},
   "source": [
    "### 3. How can you use nested if-else statements in Python, and provide an example?"
   ]
  },
  {
   "cell_type": "code",
   "execution_count": 4,
   "id": "6b4ed5c8-d62f-4bbd-bcc8-91334e7b016e",
   "metadata": {},
   "outputs": [
    {
     "name": "stdin",
     "output_type": "stream",
     "text": [
      "enter your number here:  41\n"
     ]
    },
    {
     "name": "stdout",
     "output_type": "stream",
     "text": [
      "41  is positive.\n"
     ]
    }
   ],
   "source": [
    "'''if-else are conditional statements which are use to execute one of two blocks which satisfies the provided condition.When we have to check condition\n",
    "inside a if block or else block we use nested if-else statements.'''\n",
    "## example nested if-else:\n",
    "# to check if the given number is negative ,positive or zero:\n",
    "num = int(input(\"enter your number here: \"))\n",
    "if num>=0:\n",
    "    if num==0:\n",
    "        print(num ,\"is zero.\")\n",
    "    else:\n",
    "        print(num,\" is positive.\")\n",
    "else:\n",
    "    print(num,\" is negative.\")\n",
    "## in this way ,we can use nested if-else."
   ]
  },
  {
   "cell_type": "markdown",
   "id": "51d02e51-e725-4dc1-a497-a30cfebe62b7",
   "metadata": {},
   "source": [
    "### 4. Write a Python program to determine the largest of three numbers using if-else."
   ]
  },
  {
   "cell_type": "code",
   "execution_count": 4,
   "id": "e6475d95-16eb-46c8-a529-d28af8f780db",
   "metadata": {},
   "outputs": [
    {
     "name": "stdout",
     "output_type": "stream",
     "text": [
      "c = 30 is largest.\n"
     ]
    }
   ],
   "source": [
    "## initialize three values:\n",
    "a = 10\n",
    "b = 20\n",
    "c = 30\n",
    "\n",
    "## use if-else:\n",
    "if a>=b and a>=c:\n",
    "    print(\"a =\",a,\" is largest.\")\n",
    "else:\n",
    "    if b>=a and b>=c:\n",
    "        print(\"b =\",b,\" is largest.\")\n",
    "    else:\n",
    "        print(\"c =\",c, \"is largest.\")"
   ]
  },
  {
   "cell_type": "markdown",
   "id": "f5808c69-cf53-4102-9d05-e07cc8f828ba",
   "metadata": {},
   "source": [
    "### 5. Write a Python program that calculates the absolute value of a number using if-else."
   ]
  },
  {
   "cell_type": "code",
   "execution_count": 6,
   "id": "9d26b49f-a295-4578-ab51-22282ef35094",
   "metadata": {},
   "outputs": [
    {
     "name": "stdin",
     "output_type": "stream",
     "text": [
      "Enter your number here : -4\n"
     ]
    },
    {
     "name": "stdout",
     "output_type": "stream",
     "text": [
      "4\n"
     ]
    }
   ],
   "source": [
    "## take an input from the user:\n",
    "n = int(input(\"Enter your number here :\"))\n",
    "\n",
    "## use if else to find the absolute value:\n",
    "if n>=0:\n",
    "    print(n)\n",
    "else:\n",
    "    print(-n)"
   ]
  },
  {
   "cell_type": "markdown",
   "id": "d18ef76e-fdbb-4aa8-90d4-27f957700043",
   "metadata": {},
   "source": [
    "### 6. Create a Python program that checks if a given character is a vowel or consonant using if-else."
   ]
  },
  {
   "cell_type": "code",
   "execution_count": 10,
   "id": "a39581e9-56e6-432e-9d58-7a8cc2d8aefe",
   "metadata": {},
   "outputs": [
    {
     "name": "stdin",
     "output_type": "stream",
     "text": [
      "enter the character here : k\n"
     ]
    },
    {
     "name": "stdout",
     "output_type": "stream",
     "text": [
      "k  is a consonant.\n"
     ]
    }
   ],
   "source": [
    "# take input from user:\n",
    "s = input(\"enter the character here :\")\n",
    "s = s.casefold()\n",
    "\n",
    "# use if else :\n",
    "if s in \"aeiou\":\n",
    "    print(s,\" is a vowel.\")\n",
    "elif s in \"bcdfghjklmnpqrstvwxyz\":\n",
    "    print(s,\" is a consonant.\")\n",
    "else:\n",
    "    print(\"you didnt enter any alphabetic character.\")\n"
   ]
  },
  {
   "cell_type": "markdown",
   "id": "abf48b41-8f02-4620-9a2c-1110cedfa6cf",
   "metadata": {},
   "source": [
    "### 7. Write a Python program to determine if a user is eligible to vote based on their age using if-else"
   ]
  },
  {
   "cell_type": "code",
   "execution_count": 11,
   "id": "e5b29d0f-348e-49d5-9a16-2111dc3eeb20",
   "metadata": {},
   "outputs": [
    {
     "name": "stdin",
     "output_type": "stream",
     "text": [
      "enter your age here:  20\n"
     ]
    },
    {
     "name": "stdout",
     "output_type": "stream",
     "text": [
      "you are eligible to vote.\n"
     ]
    }
   ],
   "source": [
    "# take age of the user as input:\n",
    "age = int(input(\"enter your age here: \"))\n",
    "\n",
    "## use if-else:\n",
    "if age>=18:\n",
    "    print(\"you are eligible to vote.\")\n",
    "else:\n",
    "    print(\"you are not eligible.\")"
   ]
  },
  {
   "cell_type": "markdown",
   "id": "49cc458a-a317-4611-b61e-b2c74de49d65",
   "metadata": {},
   "source": [
    "### 8. Create a Python program that calculates the discount amount based on the purchase amount using if-else."
   ]
  },
  {
   "cell_type": "code",
   "execution_count": 14,
   "id": "90054a3c-bdff-46d1-98e5-456ee77faa64",
   "metadata": {},
   "outputs": [
    {
     "name": "stdin",
     "output_type": "stream",
     "text": [
      "enter the price of your item:  10000\n"
     ]
    },
    {
     "name": "stdout",
     "output_type": "stream",
     "text": [
      "your item price is 9000.0\n"
     ]
    }
   ],
   "source": [
    "# initialize the price of an item:\n",
    "price = int(input(\"enter the price of your item: \"))\n",
    "dis = 0\n",
    "# use if-else:\n",
    "if price>=20000:\n",
    "    dis = 0.2\n",
    "    print(\"your item price is\",(price-(price*dis)))\n",
    "elif price >= 10000:\n",
    "    dis = 0.1\n",
    "    print(\"your item price is\",(price-(price*dis)))\n",
    "else:\n",
    "    print(\"you didn't get any discount.\")\n"
   ]
  },
  {
   "cell_type": "markdown",
   "id": "a36ef0df-a09d-4a11-b82e-d455d1e95682",
   "metadata": {},
   "source": [
    "### 9. Write a Python program to check if a number is within a specified range using if-else."
   ]
  },
  {
   "cell_type": "code",
   "execution_count": 5,
   "id": "126b461e-13e1-41c7-9283-bd25ca71badb",
   "metadata": {},
   "outputs": [
    {
     "name": "stdin",
     "output_type": "stream",
     "text": [
      "Enter your number here : 4\n"
     ]
    },
    {
     "name": "stdout",
     "output_type": "stream",
     "text": [
      "4  is within the range.\n"
     ]
    }
   ],
   "source": [
    "## take input from user:\n",
    "n = int(input(\"Enter your number here :\"))\n",
    "\n",
    "## using if-else:\n",
    "if n in range(1,11):\n",
    "    print(n,\" is within the range.\")\n",
    "else:\n",
    "    print(n,\" is out of the range.\")"
   ]
  },
  {
   "cell_type": "markdown",
   "id": "52e1ac1a-b942-4378-9a3f-2961a1d6fc7e",
   "metadata": {},
   "source": [
    "### 10. Create a Python program that determines the grade of a student based on their score using if-else."
   ]
  },
  {
   "cell_type": "code",
   "execution_count": 16,
   "id": "64dbc7f7-9337-48bf-a2bb-69ccbd613264",
   "metadata": {},
   "outputs": [
    {
     "name": "stdin",
     "output_type": "stream",
     "text": [
      "enter your score out of 100:  78\n"
     ]
    },
    {
     "name": "stdout",
     "output_type": "stream",
     "text": [
      "you got B grade.\n"
     ]
    }
   ],
   "source": [
    "## intialize the score of a student :\n",
    "score = int(input(\"enter your score out of 100: \"))\n",
    "\n",
    "# use if-else:\n",
    "if score>=95:\n",
    "    print(\"you got A+ grade.\")\n",
    "elif score>=85:\n",
    "    print(\"you got A grade.\")\n",
    "elif score>=75:\n",
    "    print(\"you got B grade.\")\n",
    "else:\n",
    "    print(\"you got C grade.\")"
   ]
  },
  {
   "cell_type": "markdown",
   "id": "95ff401d-872a-43a6-be97-8d47a0ae7373",
   "metadata": {},
   "source": [
    "### 11. Write a Python program to check if a string is empty or not using if-else."
   ]
  },
  {
   "cell_type": "code",
   "execution_count": 18,
   "id": "0abbde7c-8d2c-4ea0-96d1-ec95268baec0",
   "metadata": {},
   "outputs": [
    {
     "name": "stdout",
     "output_type": "stream",
     "text": [
      "string is empty.\n"
     ]
    }
   ],
   "source": [
    "## take a string:\n",
    "s = \"\"\n",
    "\n",
    "# use if-else:\n",
    "if len(s) == 0:\n",
    "    print(\"string is empty.\")\n",
    "else:\n",
    "    print(\"string is not empty.\")"
   ]
  },
  {
   "cell_type": "markdown",
   "id": "5ef84f38-4dce-4285-8dc5-78c6fcdde595",
   "metadata": {},
   "source": [
    "### 12. Create a Python program that identifies the type of a triangle (e.g., equilateral, isosceles, or scalene) based on input values using if-else."
   ]
  },
  {
   "cell_type": "code",
   "execution_count": 21,
   "id": "005f1c46-38f2-4c3e-909c-b10eed7d30c8",
   "metadata": {},
   "outputs": [
    {
     "name": "stdin",
     "output_type": "stream",
     "text": [
      "enter first side : 4\n",
      "enter second side : 5\n",
      "enter third side : 6\n"
     ]
    },
    {
     "name": "stdout",
     "output_type": "stream",
     "text": [
      "the triangle is scalene.\n"
     ]
    }
   ],
   "source": [
    "## take input as sides from user:\n",
    "a = int(input(\"enter first side :\"))\n",
    "b = int(input(\"enter second side :\"))\n",
    "c = int(input(\"enter third side :\"))\n",
    "\n",
    "## use if-else:\n",
    "if a==b or b==c or a==c:\n",
    "    if a==b==c:\n",
    "        print(\"the triangle is equilateral.\")\n",
    "    else:\n",
    "        print(\"the triangle is isosceles.\")\n",
    "else:\n",
    "    print(\"the triangle is scalene.\")"
   ]
  },
  {
   "cell_type": "markdown",
   "id": "80073c41-696c-4cb5-842c-8644a1d67ecd",
   "metadata": {},
   "source": [
    "### 13. Write a Python program to determine the day of the week based on a user-provided number using if-else."
   ]
  },
  {
   "cell_type": "code",
   "execution_count": 22,
   "id": "2ea96f0e-8d4b-48ab-93da-70d787a7df21",
   "metadata": {},
   "outputs": [
    {
     "name": "stdin",
     "output_type": "stream",
     "text": [
      "enter a number from 1-7:  1\n"
     ]
    },
    {
     "name": "stdout",
     "output_type": "stream",
     "text": [
      "MONDAY\n"
     ]
    }
   ],
   "source": [
    "# take input from user:\n",
    "n = int(input(\"enter a number from 1-7: \"))\n",
    "\n",
    "# use if-else:\n",
    "if n==1:\n",
    "    print(\"MONDAY\")\n",
    "elif n==2:\n",
    "    print(\"TUESDAY\")\n",
    "elif n==3:\n",
    "    print(\"WEDNESDAY\")\n",
    "elif n==4:\n",
    "    print(\"THURSDAY\")\n",
    "elif n==5:\n",
    "    print(\"FRIDAY\")\n",
    "elif n==6:\n",
    "    print(\"SATURDAY\")\n",
    "elif n==7:\n",
    "    print(\"SUNDAY\")\n",
    "else:\n",
    "    print(\"INVALID NUMBER\")"
   ]
  },
  {
   "cell_type": "markdown",
   "id": "fdc10255-1635-4ff7-b13c-df7e0b90f765",
   "metadata": {},
   "source": [
    "### 14. Create a Python program that checks if a given year is a leap year using both if-else and a function"
   ]
  },
  {
   "cell_type": "code",
   "execution_count": 2,
   "id": "7966203b-aa2d-45c2-9059-1a1e7e8855ac",
   "metadata": {},
   "outputs": [],
   "source": [
    "# define a function:\n",
    "def leap_year():\n",
    "    x = int(input(\"enter the year: \"))\n",
    "    if x%400==0 and x%100==0:\n",
    "        print(x, \"is a leap year.\")\n",
    "    elif x%4==0 and x%100!=0:\n",
    "        print(x,\"is a leap year.\")\n",
    "    else:\n",
    "        print(\"its not a leap year.\")"
   ]
  },
  {
   "cell_type": "code",
   "execution_count": 3,
   "id": "11d113b6-394d-41e2-99bf-ba9b7f935298",
   "metadata": {},
   "outputs": [
    {
     "name": "stdin",
     "output_type": "stream",
     "text": [
      "enter the year:  2004\n"
     ]
    },
    {
     "name": "stdout",
     "output_type": "stream",
     "text": [
      "2004 is a leap year.\n"
     ]
    }
   ],
   "source": [
    "leap_year()"
   ]
  },
  {
   "cell_type": "markdown",
   "id": "938cd990-2bc5-4e12-8c38-685ddeff38c7",
   "metadata": {},
   "source": [
    "### 15. How do you use the \"assert\" statement in Python to add debugging checks within if-else blocks?"
   ]
  },
  {
   "cell_type": "code",
   "execution_count": null,
   "id": "15147f4f-b872-485b-84c0-5d82ccf8ef18",
   "metadata": {},
   "outputs": [],
   "source": []
  },
  {
   "cell_type": "markdown",
   "id": "1e04a7fe-1598-4eb9-b9b9-83c9261607a3",
   "metadata": {},
   "source": [
    "### 16. Create a Python program that determines the eligibility of a person for a senior citizen discount based on age using if-else."
   ]
  },
  {
   "cell_type": "code",
   "execution_count": 6,
   "id": "1a6a6b19-33e5-4bf9-a729-6ab8b4839caf",
   "metadata": {},
   "outputs": [
    {
     "name": "stdin",
     "output_type": "stream",
     "text": [
      "enter your age here:  65\n"
     ]
    },
    {
     "name": "stdout",
     "output_type": "stream",
     "text": [
      "you are a senior citizen,we have some discount for you.\n"
     ]
    }
   ],
   "source": [
    "## take age of the person as input:\n",
    "age = int(input(\"enter your age here: \"))\n",
    "\n",
    "## using if else to determine the eligibility of person to get senior citizen discount:\n",
    "if age>=60:\n",
    "    print(\"you are a senior citizen,we have some discount for you.\")\n",
    "else:\n",
    "    print(\"not eligible for senior citizen discount.\")"
   ]
  },
  {
   "cell_type": "markdown",
   "id": "6eaf8c14-a37c-40ee-b94e-8a8068f531d8",
   "metadata": {},
   "source": [
    "### 17. Write a Python program to categorize a given character as uppercase, lowercase, or neither using if-else."
   ]
  },
  {
   "cell_type": "code",
   "execution_count": 2,
   "id": "eab0fe07-cde0-4f69-b892-261814e4e038",
   "metadata": {},
   "outputs": [
    {
     "name": "stdin",
     "output_type": "stream",
     "text": [
      "enter your character here:  k\n"
     ]
    },
    {
     "name": "stdout",
     "output_type": "stream",
     "text": [
      "k is lowercase.\n"
     ]
    }
   ],
   "source": [
    "## take a char from user:\n",
    "char = input(\"enter your character here: \")\n",
    "\n",
    "# using if else:\n",
    "if char.isupper():\n",
    "    print(char, \"is uppercase.\")\n",
    "elif char.islower():\n",
    "    print(char, \"is lowercase.\")\n",
    "else:\n",
    "    print(char,\" is neither uppercase nor lowercase. \")"
   ]
  },
  {
   "cell_type": "markdown",
   "id": "f237ab6b-6d71-4152-bc15-f92c2f54511c",
   "metadata": {},
   "source": [
    "### 18. Write a Python program to determine the roots of a quadratic equation using if-else."
   ]
  },
  {
   "cell_type": "code",
   "execution_count": 1,
   "id": "035210fe-4f75-4c38-bd99-cce2441cd4aa",
   "metadata": {},
   "outputs": [
    {
     "name": "stdin",
     "output_type": "stream",
     "text": [
      "enter the number here:  2\n",
      "enter the number here:  4\n",
      "enter the number here:  6\n"
     ]
    },
    {
     "name": "stdout",
     "output_type": "stream",
     "text": [
      "discriminant = -32\n",
      "roots are imaginary:\n",
      "root1 =  (-3.9999999999999996+5.656854249492381j) root2 = (-4-5.656854249492381j)\n"
     ]
    }
   ],
   "source": [
    "# firstly a quadratic equation i.e. ax**2 + bx + c requires three values,take them from user:\n",
    "a = int(input(\"enter the number here: \"))\n",
    "b = int(input(\"enter the number here: \"))\n",
    "c = int(input(\"enter the number here: \"))\n",
    "\n",
    "# now initialize a variable discriminant:\n",
    "d = (b**2-4*a*c)\n",
    "print(\"discriminant =\",d)\n",
    "\n",
    "## now using if -else to obtain roots:\n",
    "if d >= 0:\n",
    "    if d==0:\n",
    "        print(\"roots are real and same:\")\n",
    "        print((-b)/2*a)\n",
    "    else:\n",
    "        print(\"roots are real and different:\")\n",
    "        print(\"root1 =\",((-b + (d)**0.5)/2*a),\"root2 =\",((-b - (d)**0.5)/2*a))\n",
    "else:\n",
    "    print(\"roots are imaginary:\")\n",
    "    print(\"root1 = \",(-b+(-1*-d)**0.5)/2*a, \"root2 =\",(-b - (-1*-d)**0.5)/2*a)\n",
    "    "
   ]
  },
  {
   "cell_type": "markdown",
   "id": "5738e87c-99e7-4dfd-8a4d-0468c4643bc0",
   "metadata": {},
   "source": [
    "### 19. Create a Python program that checks if a given year is a century year or not using if-else."
   ]
  },
  {
   "cell_type": "code",
   "execution_count": 2,
   "id": "16955430-46eb-42ed-9e59-a968abe1981d",
   "metadata": {},
   "outputs": [
    {
     "name": "stdin",
     "output_type": "stream",
     "text": [
      "Enter the year:  2000\n"
     ]
    },
    {
     "name": "stdout",
     "output_type": "stream",
     "text": [
      "the year = 2000  is century year.\n"
     ]
    }
   ],
   "source": [
    "# take year from user:\n",
    "year = int(input(\"Enter the year: \"))\n",
    "\n",
    "## use if else to check if the year is century year or not.\n",
    "if year%100==0:\n",
    "    print(\"the year =\",year,\" is century year.\")\n",
    "else:\n",
    "    print(\"the given year is not a century year.\")"
   ]
  },
  {
   "cell_type": "markdown",
   "id": "9d25558c-2a34-4baf-bf15-30235864571d",
   "metadata": {},
   "source": [
    "### 20. Write a Python program to determine if a given number is a perfect square using if-else."
   ]
  },
  {
   "cell_type": "code",
   "execution_count": 16,
   "id": "eba3039f-5fe1-411d-af6d-dc340252b2e7",
   "metadata": {},
   "outputs": [
    {
     "name": "stdin",
     "output_type": "stream",
     "text": [
      "enter the number : 50\n"
     ]
    },
    {
     "name": "stdout",
     "output_type": "stream",
     "text": [
      "no\n"
     ]
    }
   ],
   "source": [
    "## take a number :\n",
    "num = int(input(\"enter the number :\"))\n",
    "## find the square root of the number:\n",
    "sqrt = num**0.5\n",
    "## use if-else to check if the number is perfect square or not:\n",
    "if sqrt.is_integer():\n",
    "    print(\"yes\")\n",
    "else:\n",
    "    print(\"no\")\n"
   ]
  },
  {
   "cell_type": "markdown",
   "id": "4a096c26-84ff-46ef-8a12-10822a812cc8",
   "metadata": {},
   "source": [
    "### 21. Explain the purpose of the \"continue\" and \"break\" statements within if-else loops."
   ]
  },
  {
   "cell_type": "code",
   "execution_count": 17,
   "id": "a7fae5bf-302f-49bc-b1cd-cafa9247d075",
   "metadata": {},
   "outputs": [
    {
     "data": {
      "text/plain": [
       "'The break statement is used to terminate the loop immediately. \\nThe continue statement is used to skip the current iteration of the loop.\\nBreak:A break statement in Python alters the flow of a loop by terminating itonce a specified condition is met.\\nContinue: The continue statement in Python is used to skip the remaining code inside a loop for the current iteration only.'"
      ]
     },
     "execution_count": 17,
     "metadata": {},
     "output_type": "execute_result"
    }
   ],
   "source": [
    "'''The break statement is used to terminate the loop immediately. \n",
    "The continue statement is used to skip the current iteration of the loop.\n",
    "Break:A break statement in Python alters the flow of a loop by terminating itonce a specified condition is met.\n",
    "Continue: The continue statement in Python is used to skip the remaining code inside a loop for the current iteration only.'''"
   ]
  },
  {
   "cell_type": "markdown",
   "id": "6f64be1f-283b-4629-a9b1-89424521f704",
   "metadata": {},
   "source": [
    "### 21. Create a Python program that calculates the BMI (Body Mass Index) of a person based on their weight and height using if-else."
   ]
  },
  {
   "cell_type": "code",
   "execution_count": 21,
   "id": "5ad5ac7a-441b-4179-9d36-f95875ef9709",
   "metadata": {},
   "outputs": [
    {
     "name": "stdin",
     "output_type": "stream",
     "text": [
      " 45\n",
      " 46\n"
     ]
    },
    {
     "name": "stdout",
     "output_type": "stream",
     "text": [
      "underweight.\n"
     ]
    }
   ],
   "source": [
    "## take the weight and height of a person as input:\n",
    "weight = float(input())\n",
    "height = float(input())\n",
    "\n",
    "## calculate BMI:\n",
    "BMI = weight/height**2\n",
    "## use if else:\n",
    "if BMI<18.5:\n",
    "    print(\"underweight.\")\n",
    "elif 18.5<=BMI<25:\n",
    "    print(\"normal\")\n",
    "elif 25<=BMI<30:\n",
    "    print(\"overweight.\")\n",
    "else:\n",
    "    print(\"obese.\")"
   ]
  },
  {
   "cell_type": "code",
   "execution_count": null,
   "id": "b37d7560-5d49-4891-9358-67d841d3e04b",
   "metadata": {},
   "outputs": [],
   "source": [
    "Create a Python program that checks if a given year is a century year or not using if-else.\n",
    "Write a Python program to determine if a given number is a perfect square using if-else.\n",
    "Explain the purpose of the \"continue\" and \"break\" statements within if-else loops.\n",
    "Create a Python program that calculates the BMI (Body Mass Index) of a person based on their weight and height using if-else.\n",
    "How can you use the \"filter()\" function with if-else statements to filter elements from a list?\n",
    "Write a Python program to determine if a given number is prime or not using if-else.\n"
   ]
  },
  {
   "cell_type": "code",
   "execution_count": null,
   "id": "712fbb58-6c03-4878-b21e-6b5681a49174",
   "metadata": {},
   "outputs": [],
   "source": []
  }
 ],
 "metadata": {
  "kernelspec": {
   "display_name": "Python 3 (ipykernel)",
   "language": "python",
   "name": "python3"
  },
  "language_info": {
   "codemirror_mode": {
    "name": "ipython",
    "version": 3
   },
   "file_extension": ".py",
   "mimetype": "text/x-python",
   "name": "python",
   "nbconvert_exporter": "python",
   "pygments_lexer": "ipython3",
   "version": "3.10.8"
  }
 },
 "nbformat": 4,
 "nbformat_minor": 5
}
